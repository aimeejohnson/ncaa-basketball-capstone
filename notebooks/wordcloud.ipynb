{
 "cells": [
  {
   "cell_type": "code",
   "execution_count": null,
   "id": "40188506-6e33-42f7-b9b2-9951bf3c9306",
   "metadata": {},
   "outputs": [],
   "source": [
    "from wordcloud import WordCloud\n",
    "import matplotlib.pyplot as plt\n",
    "\n",
    "# Create a list of word\n",
    "text=('DALLAS AP — South Carolina coach Dawn Staley has taken issue with how her teams style is characterized apparently taking aim at Iowa coach Lisa Bluder for suggesting rebounding against the Gamecocks was like going to a bar fight\n",
    "\n",
    "A day after the Hawkeyes ended the undefeated defending national champions bid for a repeat Bluder said Saturday there was no ill intent in comments made three days before her teams 7773 victory in the semifinals at the Final Four\n",
    "\n",
    "There was absolutely no ill intent Bluder said in the news conference setting up the Hawkeyes meeting Sunday with LSU in the national championship game\n",
    "\n",
    "I know coaches will take things and spin it to try to motivate their team the Iowa coach said Ive done that Im sure So be it with that I really meant it as a compliment like you are going to have to fight harder than youve ever fought in your life to get a defensive rebound against this team because they are so good Thats what my intent was\n",
    "\n",
    "Bluder was responding to a question about South Carolinas size and offensive rebounding in a conference call with reporters on Tuesday after the Final Four matchups were set\n",
    "\n",
    "I mean theyre an amazing offensive rebounding team Bluder said Somebody kind of just described it to me as youre going to a bar fight when you try to go rebound against them theyre just so good\n",
    "\n",
    "After the loss to the Hawkeyes Staley made a direct reference to bar fighters but said her concerns were prompted by what she said were derogatory remarks from unspecified national reporters about her team at an event the night before the semifinals\n",
    "\n",
    "The twotime NCAA championship coach said she intended to address her concerns regardless of the outcome at the Final Four Staley had been asked what was the truth about her team when others had suggested her players were bullies\n",
    "\n",
    "The truth about our team Staley said Friday Thats a good question Were not bar fighters Were not thugs Were not monkeys Were not street fighters\n",
    "\n",
    "Staley said comments relayed to her after the event Thursday night were hurtful to her players\n",
    "\n",
    "If you really knew them if you really knew them like you really want to know other players that represent this game you would think differently Staley said Friday So dont judge us by the color of our skin Judge us by how we approach the game\n",
    "\n",
    "The Gamecocks were ranked No 1 all season with a dominant frontcourt led by 6foot5 star Aliyah Boston Their No 2 rebounder and thirdleading scorer was 67 center Kamilla Cardoso\n",
    "\n",
    "You may not like how we play the game you may not like it thats the way we play Staley said Thats the way I coach Im not changing We found success in it and maybe some days like today we end up on the losing side of the stick But guess what We live to see another day\n",
    "\n",
    "Its not the first time this season comments from an opposing coach bothered Staley\n",
    "\n",
    "After the Gamecocks beat Connecticut in February Huskies coach Geno Auriemma was referring to bruises on Lou Lopez Senechal when he said Its just appalling what teams do to her now\n",
    "\n",
    "Its not basketball anymore I dont know what it is but its not basketball Auriemma added\n",
    "\n",
    "Staley responded on her radio show two days later saying Weve been called so many things and Im sick of it Im sick of it because I coach some of the best human beings the game has ever had\n",
    "\n",
    "Auriemma said he was criticizing the officials not South Carolinas style of play')\n",
    "\n",
    "\n",
    "# Create the wordcloud object\n",
    "wordcloud = WordCloud(width=480, height=480, margin=0).generate(text)\n",
    "\n",
    "# Display the generated image:\n",
    "plt.imshow(wordcloud, interpolation='bilinear')\n",
    "plt.axis(\"off\")\n",
    "plt.margins(x=0, y=0)\n",
    "plt.show()"
   ]
  }
 ],
 "metadata": {
  "kernelspec": {
   "display_name": "Python 3 (ipykernel)",
   "language": "python",
   "name": "python3"
  },
  "language_info": {
   "codemirror_mode": {
    "name": "ipython",
    "version": 3
   },
   "file_extension": ".py",
   "mimetype": "text/x-python",
   "name": "python",
   "nbconvert_exporter": "python",
   "pygments_lexer": "ipython3",
   "version": "3.12.4"
  }
 },
 "nbformat": 4,
 "nbformat_minor": 5
}
